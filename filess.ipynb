{
 "cells": [
  {
   "cell_type": "code",
   "execution_count": 12,
   "id": "235de4b4-d0ad-4ecb-b627-d07e8992f054",
   "metadata": {},
   "outputs": [
    {
     "name": "stderr",
     "output_type": "stream",
     "text": [
      "<>:8: SyntaxWarning: invalid escape sequence '\\ '\n",
      "<>:8: SyntaxWarning: invalid escape sequence '\\ '\n",
      "C:\\Users\\ComputerCenter3\\AppData\\Local\\Temp\\ipykernel_5664\\1815943789.py:8: SyntaxWarning: invalid escape sequence '\\ '\n",
      "  userinput=input(\"\\ enter text to overwrie from begining..\")\n"
     ]
    },
    {
     "name": "stdout",
     "output_type": "stream",
     "text": [
      "latest data:\n",
      "my full name is maneesha.\n",
      "\n"
     ]
    },
    {
     "name": "stdin",
     "output_type": "stream",
     "text": [
      "\\ enter text to overwrie from begining.. by\n"
     ]
    },
    {
     "name": "stdout",
     "output_type": "stream",
     "text": [
      "\n",
      " file after writing by r+\n",
      "by full name is maneesha.\n",
      "\n"
     ]
    }
   ],
   "source": [
    "filename='ssm.txt'\n",
    "with open(filename,'w') as f:\n",
    "    f.write(\"my full name is maneesha.\\n\")\n",
    "with open(filename,'r+') as file:\n",
    "    print(\"latest data:\")\n",
    "    print(file.read())\n",
    "    file.seek(0)\n",
    "    userinput=input(\"\\ enter text to overwrie from begining..\")\n",
    "    file.write(userinput)\n",
    "    file.seek(0)\n",
    "    print(\"\\n file after writing by r+\")\n",
    "    print(file.read())\n",
    "    "
   ]
  },
  {
   "cell_type": "code",
   "execution_count": 16,
   "id": "d33c9e09-a4ca-4a6a-bb1b-736f83b443ef",
   "metadata": {},
   "outputs": [
    {
     "name": "stdin",
     "output_type": "stream",
     "text": [
      "enter any data.. hi how r u\n"
     ]
    },
    {
     "name": "stdout",
     "output_type": "stream",
     "text": [
      "\n",
      " latest file count \n",
      "hi how r u\n"
     ]
    }
   ],
   "source": [
    "with open('ssm.txt','w+') as file:\n",
    "    text=input(\"enter any data..\")\n",
    "    file.write(text)\n",
    "    file.seek(0)\n",
    "    print(\"\\n latest file count \")\n",
    "    print(file.read())"
   ]
  },
  {
   "cell_type": "code",
   "execution_count": 20,
   "id": "e3bac273-720a-4f85-82a3-da06c3f0a29c",
   "metadata": {},
   "outputs": [
    {
     "name": "stdin",
     "output_type": "stream",
     "text": [
      "enter a line to append a data.. man is part in nature\n"
     ]
    },
    {
     "name": "stdout",
     "output_type": "stream",
     "text": [
      "\n",
      " curent content in the file \n",
      "Nature is a vast and beautiful realm that encompasses all living beings and the processes    associated with them. \n",
      "It provides essential resources such as food, water, and air, forming the foundation of life on Earth. \n",
      "The beauty and richness of nature are diverse, offering man is the man is part in nature\n"
     ]
    }
   ],
   "source": [
    "with open('line.txt','a+') as file:\n",
    "    text=input(\"enter a line to append a data..\")\n",
    "    file.write(text)\n",
    "    file.seek(0)\n",
    "    print(\"\\n curent content in the file \")\n",
    "    print(file.read())"
   ]
  },
  {
   "cell_type": "code",
   "execution_count": 24,
   "id": "cd80c54f-f70f-409c-83e0-c135cc5f02a8",
   "metadata": {},
   "outputs": [
    {
     "name": "stdin",
     "output_type": "stream",
     "text": [
      "enter a line to append a data a\n"
     ]
    },
    {
     "name": "stdout",
     "output_type": "stream",
     "text": [
      "\n",
      " curent content in the file \n",
      "Nature is a vast and beautiful realm that encompasses all living beings and the processes    associated with them. \n",
      "It provides essential resources such as food, water, and air, forming the foundation of life on Earth. \n",
      "The beauty and richness of nature are diverse, offering man is the man is part in naturehfhhhhhhhhhhh\n",
      "a\n",
      "\n"
     ]
    }
   ],
   "source": [
    "with open('line.txt', 'a+') as file:\n",
    "    text=input(\"enter a line to append a data\")\n",
    "    file.write(text+'\\n')\n",
    "    file.seek(0)\n",
    "    print(\"\\n curent content in the file \")\n",
    "    print(file.read())"
   ]
  },
  {
   "cell_type": "code",
   "execution_count": 32,
   "id": "185ff103-337e-4067-9266-0eadc3ac0423",
   "metadata": {},
   "outputs": [
    {
     "name": "stdin",
     "output_type": "stream",
     "text": [
      "enter filename with extension line.txt\n",
      "enter a char to search frequency: #\n"
     ]
    },
    {
     "name": "stdout",
     "output_type": "stream",
     "text": [
      "# appears 27 times in the file\n"
     ]
    }
   ],
   "source": [
    "filename=input(\"enter filename with extension\")\n",
    "with open(filename,'r') as file:\n",
    "    text=file.read()\n",
    "    letter=input(\"enter a char to search frequency:\")\n",
    "    count=0\n",
    "    for char in text:\n",
    "        if char == letter:\n",
    "            count +=1\n",
    "print(letter,\"appears\",count,\"times in the file\")            "
   ]
  },
  {
   "cell_type": "code",
   "execution_count": null,
   "id": "b939a6a7-91db-4400-b245-ed5cefe2cf96",
   "metadata": {},
   "outputs": [],
   "source": []
  }
 ],
 "metadata": {
  "kernelspec": {
   "display_name": "Python 3 (ipykernel)",
   "language": "python",
   "name": "python3"
  },
  "language_info": {
   "codemirror_mode": {
    "name": "ipython",
    "version": 3
   },
   "file_extension": ".py",
   "mimetype": "text/x-python",
   "name": "python",
   "nbconvert_exporter": "python",
   "pygments_lexer": "ipython3",
   "version": "3.12.7"
  }
 },
 "nbformat": 4,
 "nbformat_minor": 5
}
